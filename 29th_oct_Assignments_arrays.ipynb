{
 "cells": [
  {
   "cell_type": "markdown",
   "id": "e8bff9d2-87e7-498a-962d-e21a1a1aef9d",
   "metadata": {},
   "source": [
    "## Assignment - Arrays"
   ]
  },
  {
   "cell_type": "raw",
   "id": "b53d06f2-567a-46cf-b8ae-623ff0ceb9de",
   "metadata": {},
   "source": [
    "1. Given an array, check if it contains any duplicates or not.\n",
    "arr = [1, 2, 4, 2, 5, 9]\n",
    "Output = True"
   ]
  },
  {
   "cell_type": "code",
   "execution_count": 1,
   "id": "bdb9a1db-baf6-49d4-b958-830ed41e3065",
   "metadata": {},
   "outputs": [
    {
     "data": {
      "text/plain": [
       "True"
      ]
     },
     "execution_count": 1,
     "metadata": {},
     "output_type": "execute_result"
    }
   ],
   "source": [
    "# time complexity O(n^2)\n",
    "# space complexity O(1)\n",
    "def find_duplicate_value(arr):\n",
    "    for i in range(len(arr)):\n",
    "        for j in range(i+1,len(arr)):\n",
    "            if arr[i]==arr[j]:\n",
    "                return True\n",
    "    return False\n",
    "\n",
    "arr = [1, 2, 4, 2, 5, 9]\n",
    "find_duplicate_value(arr)"
   ]
  },
  {
   "cell_type": "raw",
   "id": "8e5b46c2-f5ee-4933-9056-fa072f84c5c4",
   "metadata": {},
   "source": [
    "2. Given an array and an integer k, rotate the array to the right by k steps.\n",
    "arr = [1, 2, 3, 4, 5, 6, 7] k = 3\n",
    "Output = [5, 6, 7, 1, 2, 3, 4]"
   ]
  },
  {
   "cell_type": "code",
   "execution_count": 2,
   "id": "29c24ac4-0f8b-48d6-8629-f9f016007c02",
   "metadata": {},
   "outputs": [
    {
     "name": "stdout",
     "output_type": "stream",
     "text": [
      "[5, 6, 7, 1, 2, 3, 4]\n"
     ]
    }
   ],
   "source": [
    "# Time Complexity is O(n)\n",
    "# Space Complexity is O(n)\n",
    "def rotate_array(arr, step):\n",
    "    arr1 = arr[:step+1]\n",
    "    arr2 = arr[step+1:]\n",
    "    rotate_arr = arr2+arr1\n",
    "    return rotate_arr\n",
    "\n",
    "arr = [1, 2, 3, 4, 5, 6, 7]\n",
    "print(rotate_array(arr, 3))"
   ]
  },
  {
   "cell_type": "raw",
   "id": "14b45123-d186-402e-a610-3426d1b1ab39",
   "metadata": {},
   "source": [
    "3. Reverse the given array in-place, means without using any extra data structure.\n",
    "arr = [2, 4, 5, 7, 9, 12]\n",
    "Output = [12, 9, 7, 5, 4, 2]"
   ]
  },
  {
   "cell_type": "code",
   "execution_count": 3,
   "id": "beb2f342-6e2f-4d7e-9e2b-f2f1161d215f",
   "metadata": {},
   "outputs": [
    {
     "name": "stdout",
     "output_type": "stream",
     "text": [
      "[12, 9, 7, 5, 4, 2]\n"
     ]
    }
   ],
   "source": [
    "# Time complexity O(n)\n",
    "# Space Complexity O(1)\n",
    "def reverse_array(arr):\n",
    "    start = 0\n",
    "    end = len(arr)-1\n",
    "    \n",
    "    while start<end:\n",
    "        arr[start], arr[end] = arr[end],arr[start]\n",
    "        start+=1\n",
    "        end-=1\n",
    "    return arr\n",
    "\n",
    "arr = [2, 4, 5, 7, 9, 12]\n",
    "print(reverse_array(arr))"
   ]
  },
  {
   "cell_type": "raw",
   "id": "726ecd0e-b31a-4c1d-a79c-b22034b42c29",
   "metadata": {},
   "source": [
    "4. Given an array of integers, find the maximum element in an array\n",
    "arr = [10, 5, 20, 8, 15]\n",
    "Output = 20"
   ]
  },
  {
   "cell_type": "code",
   "execution_count": 4,
   "id": "492dae88-ec37-41a9-a080-353535ca3790",
   "metadata": {},
   "outputs": [
    {
     "name": "stdout",
     "output_type": "stream",
     "text": [
      "20\n"
     ]
    }
   ],
   "source": [
    "# Time complexity O(n)\n",
    "# Space complexity O(1)\n",
    "def find_maximum(arr):\n",
    "    val = arr[0]\n",
    "    for i in range(len(arr)):\n",
    "        if arr[i]>val:\n",
    "            val = arr[i]\n",
    "    return val\n",
    "\n",
    "arr = [10, 5, 20, 8, 15]\n",
    "print(find_maximum(arr))"
   ]
  },
  {
   "cell_type": "raw",
   "id": "7f54a261-954f-4fc7-b899-ccaf4efb1f4d",
   "metadata": {},
   "source": [
    "5. Given a sorted array, remove the duplicate element without using any extra data structure.\n",
    "arr = [1, 1, 2, 2, 2, 3, 3, 4, 4, 4, 5, 5]\n",
    "Output = [1, 2, 3, 4, 5]"
   ]
  },
  {
   "cell_type": "code",
   "execution_count": 5,
   "id": "74acb9d8-96c0-4515-bfac-5c386afd7199",
   "metadata": {},
   "outputs": [
    {
     "name": "stdout",
     "output_type": "stream",
     "text": [
      "[1, 2, 3, 4, 5]\n"
     ]
    }
   ],
   "source": [
    "# Time Complexity O(n)\n",
    "# Space Complexity O(1)\n",
    "def remove_duplicates(arr):\n",
    "    if len(arr) <= 0:\n",
    "        return \"Empty Array\"\n",
    "\n",
    "    index = 0\n",
    "    for i in range(1,len(arr)):\n",
    "        if arr[i]!=arr[index]:\n",
    "            index+=1\n",
    "            arr[index]=arr[i]\n",
    "    arr = arr[:index+1]\n",
    "    return arr\n",
    "\n",
    "arr = [1, 1, 2, 2, 2, 3, 3, 4, 4, 4, 5, 5]\n",
    "print(remove_duplicates(arr))"
   ]
  },
  {
   "cell_type": "code",
   "execution_count": null,
   "id": "53753f90-748f-408b-8702-9573348029f0",
   "metadata": {},
   "outputs": [],
   "source": []
  }
 ],
 "metadata": {
  "kernelspec": {
   "display_name": "Python 3 (ipykernel)",
   "language": "python",
   "name": "python3"
  },
  "language_info": {
   "codemirror_mode": {
    "name": "ipython",
    "version": 3
   },
   "file_extension": ".py",
   "mimetype": "text/x-python",
   "name": "python",
   "nbconvert_exporter": "python",
   "pygments_lexer": "ipython3",
   "version": "3.11.4"
  }
 },
 "nbformat": 4,
 "nbformat_minor": 5
}
